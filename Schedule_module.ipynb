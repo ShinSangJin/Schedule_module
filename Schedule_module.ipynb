{
 "cells": [
  {
   "cell_type": "markdown",
   "metadata": {},
   "source": [
    "# Schedule 모듈"
   ]
  },
  {
   "cell_type": "code",
   "execution_count": null,
   "metadata": {},
   "outputs": [],
   "source": [
    "import schedule \n",
    "import time \n",
    "\n",
    "def job_second(): \n",
    "    print(\"I'm working...every second\") \n",
    "def job_minute(): \n",
    "    print(\"I'm working...every minute\") \n",
    "def job_hour(): \n",
    "    print(\"I'm working...every hour\") \n",
    "def job_day(): \n",
    "    print(\"I'm working...every day\") \n",
    "def job_monday(): \n",
    "    print(\"I'm working...every monday\") \n",
    "def job_wednesday(): \n",
    "    print(\"I'm working...every wednesday\") \n",
    "\n",
    "# # 10초에 한번씩 실행 \n",
    "schedule.every(10).seconds.do(job_second) \n",
    "# # 10분에 한번씩 실행 \n",
    "schedule.every(10).minutes.do(job_minute) \n",
    "# # 매 시간 실행 \n",
    "schedule.every().hours.do(job_hour) \n",
    "# # 매일 10:30 에 실행 \n",
    "schedule.every().days.at(\"10:30\").do(job_day) \n",
    "# # 매주 월요일 실행 \n",
    "schedule.every().monday.do(job_monday) \n",
    "# 매주 수요일 13:15 에 실행 \n",
    "schedule.every().wednesday.at(\"13:15\").do(job_wednesday) \n",
    "\n",
    "while True: \n",
    "    schedule.run_pending() \n",
    "    time.sleep(1)"
   ]
  }
 ],
 "metadata": {
  "kernelspec": {
   "display_name": "Python 3",
   "language": "python",
   "name": "python3"
  },
  "language_info": {
   "codemirror_mode": {
    "name": "ipython",
    "version": 3
   },
   "file_extension": ".py",
   "mimetype": "text/x-python",
   "name": "python",
   "nbconvert_exporter": "python",
   "pygments_lexer": "ipython3",
   "version": "3.7.4"
  }
 },
 "nbformat": 4,
 "nbformat_minor": 2
}
